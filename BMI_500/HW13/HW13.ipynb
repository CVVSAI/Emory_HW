{
 "cells": [
  {
   "cell_type": "code",
   "execution_count": 1,
   "id": "22f4ef6d",
   "metadata": {},
   "outputs": [],
   "source": [
    "from itertools import product\n",
    "from pandas import Series\n",
    "import numpy as np\n",
    "\n",
    "def preprocess(data, kernel_size):\n",
    "    data_out = np.zeros(data.shape)\n",
    "    for ch in range(data.shape[1]):\n",
    "        kps_seq_ch = data[:, ch]\n",
    "        kps_seq_ch = Series(kps_seq_ch).rolling(kernel_size, min_periods=1, center=True).mean().to_numpy()\n",
    "        data_out[:, ch] = kps_seq_ch\n",
    "    return data_out"
   ]
  },
  {
   "cell_type": "code",
   "execution_count": 2,
   "id": "0595159e",
   "metadata": {},
   "outputs": [],
   "source": [
    "def segmentation(data, win_size):\n",
    "    ''' Sliding window parameters '''\n",
    "    win_len = int(30*win_size) # 1 sec x 30 Hz\n",
    "    win_step = int(30*0.5) # 0.5 sec x 30 Hz\n",
    "    sample_windows = []\n",
    "    for start_time in range(0, data.shape[0], win_step):\n",
    "        end_time = start_time + win_len\n",
    "        if end_time > data.shape[0]:\n",
    "            end_time = data.shape[0]\n",
    "            start_time = end_time - win_len\n",
    "        frame = data[start_time:end_time]\n",
    "        assert frame.shape[0] == win_len, (start_time, end_time, data.shape[0])\n",
    "        sample_windows.append(frame)\n",
    "    sample_windows = np.array(sample_windows)\n",
    "    return sample_windows"
   ]
  },
  {
   "cell_type": "code",
   "execution_count": 3,
   "id": "414079b1",
   "metadata": {},
   "outputs": [],
   "source": [
    "def feature_extraction(sample_windows):\n",
    "    ''' extract mean and std from each frame'''\n",
    "    N, T, D = sample_windows.shape\n",
    "    feats = []\n",
    "    for i in range(N):\n",
    "        frame = sample_windows[i]\n",
    "        feat = []\n",
    "        for ch in range(D):\n",
    "            frame_ch = frame[:,ch]\n",
    "            # mean feature\n",
    "            mean_ch = np.mean(frame_ch)\n",
    "            feat.append(mean_ch)\n",
    "            # std feature\n",
    "            std_ch = np.std(frame_ch)\n",
    "            feat.append(std_ch)\n",
    "            # min feature\n",
    "            min_ch = np.min(frame_ch)\n",
    "            feat.append(min_ch)\n",
    "            # max feature\n",
    "            max_ch = np.max(frame_ch)\n",
    "            feat.append(max_ch)\n",
    "        feats.append(feat)\n",
    "    feats = np.array(feats)\n",
    "    return feats"
   ]
  },
  {
   "cell_type": "code",
   "execution_count": 4,
   "id": "f91f4e4a",
   "metadata": {},
   "outputs": [],
   "source": [
    "import os\n",
    "from collections import defaultdict\n",
    "file_names = os.listdir('pose')\n",
    "\n",
    "data_dict = defaultdict(list)\n",
    "for file_name in file_names:\n",
    "    data3D = np.load('pose/' + file_name)\n",
    "    data = data3D.reshape(data3D.shape[0], -1)\n",
    "    kernel = 5\n",
    "    data_prep = preprocess(data, kernel)\n",
    "    win_len = 1.5\n",
    "    data_seg = segmentation(data_prep, win_len)\n",
    "    N = data_seg.shape[0]\n",
    "    features = feature_extraction(data_seg)\n",
    "    data_dict[int(file_name[5:7])].append((features, [int(file_name[1:3]) - 1] * N)) "
   ]
  },
  {
   "cell_type": "code",
   "execution_count": 5,
   "id": "70971c79",
   "metadata": {},
   "outputs": [],
   "source": [
    "train_x = []\n",
    "train_y = []\n",
    "\n",
    "for i in range(1, 8): # number of train subjects (1-8)\n",
    "    for j in range(32): # number of training samples for each subject (16 activities * 2 (sit-stand))\n",
    "        train_x.append(data_dict[i][j][0])\n",
    "        train_y.append(data_dict[i][j][1])\n",
    "        \n",
    "trainx = np.vstack(train_x)\n",
    "trainy = np.hstack(train_y)\n",
    "\n",
    "test_x = []\n",
    "test_y= []\n",
    "for i in range(8, 11): # number of test subjects (1-8)\n",
    "    for j in range(32): # number of training samples for each subject (16 activities * 2 (sit-stand))\n",
    "        test_x.append(data_dict[i][j][0])\n",
    "        test_y.append(data_dict[i][j][1])\n",
    "        \n",
    "testx = np.vstack(test_x)\n",
    "testy = np.hstack(test_y)"
   ]
  },
  {
   "cell_type": "code",
   "execution_count": 6,
   "id": "e81e8c44",
   "metadata": {},
   "outputs": [
    {
     "name": "stdout",
     "output_type": "stream",
     "text": [
      "Defaulting to user installation because normal site-packages is not writeable\n",
      "Requirement already satisfied: scikit-learn in c:\\users\\cvedava\\appdata\\roaming\\python\\python39\\site-packages (1.3.2)\n",
      "Requirement already satisfied: scipy in c:\\users\\cvedava\\appdata\\roaming\\python\\python39\\site-packages (1.11.4)\n",
      "Requirement already satisfied: matplotlib in c:\\users\\cvedava\\appdata\\roaming\\python\\python39\\site-packages (3.8.2)\n",
      "Requirement already satisfied: joblib>=1.1.1 in c:\\users\\cvedava\\appdata\\roaming\\python\\python39\\site-packages (from scikit-learn) (1.3.2)\n",
      "Requirement already satisfied: numpy<2.0,>=1.17.3 in c:\\users\\cvedava\\appdata\\roaming\\python\\python39\\site-packages (from scikit-learn) (1.26.2)\n",
      "Requirement already satisfied: threadpoolctl>=2.0.0 in c:\\users\\cvedava\\appdata\\roaming\\python\\python39\\site-packages (from scikit-learn) (3.2.0)\n",
      "Requirement already satisfied: packaging>=20.0 in c:\\program files\\arcgis\\pro\\bin\\python\\envs\\arcgispro-py3\\lib\\site-packages (from matplotlib) (21.3)\n",
      "Requirement already satisfied: kiwisolver>=1.3.1 in c:\\program files\\arcgis\\pro\\bin\\python\\envs\\arcgispro-py3\\lib\\site-packages (from matplotlib) (1.4.2)\n",
      "Requirement already satisfied: importlib-resources>=3.2.0 in c:\\users\\cvedava\\appdata\\roaming\\python\\python39\\site-packages (from matplotlib) (6.1.1)\n",
      "Requirement already satisfied: pyparsing>=2.3.1 in c:\\program files\\arcgis\\pro\\bin\\python\\envs\\arcgispro-py3\\lib\\site-packages (from matplotlib) (3.0.9)\n",
      "Requirement already satisfied: cycler>=0.10 in c:\\program files\\arcgis\\pro\\bin\\python\\envs\\arcgispro-py3\\lib\\site-packages (from matplotlib) (0.11.0)\n",
      "Requirement already satisfied: fonttools>=4.22.0 in c:\\program files\\arcgis\\pro\\bin\\python\\envs\\arcgispro-py3\\lib\\site-packages (from matplotlib) (4.25.0)\n",
      "Requirement already satisfied: contourpy>=1.0.1 in c:\\program files\\arcgis\\pro\\bin\\python\\envs\\arcgispro-py3\\lib\\site-packages (from matplotlib) (1.0.5)\n",
      "Requirement already satisfied: python-dateutil>=2.7 in c:\\program files\\arcgis\\pro\\bin\\python\\envs\\arcgispro-py3\\lib\\site-packages (from matplotlib) (2.8.2)\n",
      "Requirement already satisfied: pillow>=8 in c:\\program files\\arcgis\\pro\\bin\\python\\envs\\arcgispro-py3\\lib\\site-packages (from matplotlib) (9.3.0)\n",
      "Requirement already satisfied: zipp>=3.1.0 in c:\\program files\\arcgis\\pro\\bin\\python\\envs\\arcgispro-py3\\lib\\site-packages (from importlib-resources>=3.2.0->matplotlib) (3.8.0)\n",
      "Requirement already satisfied: six>=1.5 in c:\\program files\\arcgis\\pro\\bin\\python\\envs\\arcgispro-py3\\lib\\site-packages (from python-dateutil>=2.7->matplotlib) (1.16.0)\n",
      "Note: you may need to restart the kernel to use updated packages.\n"
     ]
    }
   ],
   "source": [
    "pip install -U scikit-learn scipy matplotlib"
   ]
  },
  {
   "cell_type": "code",
   "execution_count": 7,
   "id": "a364be9c",
   "metadata": {},
   "outputs": [],
   "source": [
    "from sklearn.ensemble import RandomForestClassifier\n",
    "from sklearn.model_selection import GridSearchCV\n",
    "from sklearn.metrics import accuracy_score\n",
    "\n",
    "def build_rf(train_x, train_y, test_x, test_y):\n",
    "    \n",
    "    params = {\n",
    "    'n_estimators': [50, 100, 200],\n",
    "    'max_depth': [2, 3, 5, 8, 10], \n",
    "    'min_samples_leaf': [3, 5, 10, 15, 20]}\n",
    "\n",
    "    rf = RandomForestClassifier()\n",
    "\n",
    "    grid = GridSearchCV(rf, param_grid=params, scoring='accuracy', cv=5)\n",
    "    grid.fit(train_x, train_y)\n",
    "\n",
    "    best_rf = grid.best_estimator_\n",
    "    best_rf.fit(train_x, train_y)\n",
    "\n",
    "    train_preds1 = best_rf.predict(train_x)\n",
    "    test_preds1 = best_rf.predict(test_x)\n",
    "    \n",
    "    accuracy_train = accuracy_score(train_y, train_preds1)\n",
    "    accuracy_test = accuracy_score(test_y, test_preds1)\n",
    "\n",
    "    \n",
    "\n",
    "    results = {\n",
    "             'train_accuracy' : accuracy_train,\n",
    "             'test_accuracy' : accuracy_test,\n",
    "             'params': grid.best_params_\n",
    "            }\n",
    "\n",
    "    return results"
   ]
  },
  {
   "cell_type": "code",
   "execution_count": 8,
   "id": "de3079d7",
   "metadata": {},
   "outputs": [],
   "source": [
    "import warnings\n",
    "warnings.filterwarnings(\"ignore\")\n",
    "\n",
    "r1 = build_rf(trainx, trainy, testx, testy)"
   ]
  },
  {
   "cell_type": "code",
   "execution_count": 9,
   "id": "ded3406d",
   "metadata": {},
   "outputs": [],
   "source": [
    "from sklearn.neural_network import MLPClassifier\n",
    "def tune_nn(train_x, train_y, test_x, test_y):\n",
    "\n",
    "    param_grid = {\n",
    "    'hidden_layer_sizes': [(10,), (50,), (50,20), (100,), (100, 50)] ,\n",
    "    'activation': ['logistic', 'tanh', 'relu'], \n",
    "    'alpha': [0.0001, 0.001, 0.01, 0.1]\n",
    "    }\n",
    "    \n",
    "    nn = MLPClassifier()\n",
    "\n",
    "    grid = GridSearchCV(nn, param_grid, cv=5, scoring='accuracy')\n",
    "\n",
    "    grid.fit(train_x, train_y)\n",
    "    \n",
    "    best_nn = grid.best_estimator_\n",
    "    best_nn.fit(train_x, train_y)\n",
    "    \n",
    "\n",
    "    train_preds1 = best_nn.predict(train_x)\n",
    "    test_preds1 = best_nn.predict(test_x)\n",
    "                                 \n",
    "    accuracy_train = accuracy_score(train_y, train_preds1)\n",
    "    accuracy_test = accuracy_score(test_y, test_preds1)\n",
    "\n",
    "    \n",
    "\n",
    "    results = {\n",
    "             'train_accuracy' : accuracy_train,\n",
    "             'test_accuracy' : accuracy_test,\n",
    "             'params': grid.best_params_}\n",
    "\n",
    "    return results"
   ]
  },
  {
   "cell_type": "code",
   "execution_count": 10,
   "id": "fbb0ab88",
   "metadata": {},
   "outputs": [],
   "source": [
    "r2 = tune_nn(trainx, trainy, testx, testy)"
   ]
  },
  {
   "cell_type": "code",
   "execution_count": 11,
   "id": "db190080",
   "metadata": {},
   "outputs": [
    {
     "data": {
      "text/plain": [
       "{'train_accuracy': 0.9776785714285714,\n",
       " 'test_accuracy': 0.5,\n",
       " 'params': {'max_depth': 10, 'min_samples_leaf': 3, 'n_estimators': 200}}"
      ]
     },
     "execution_count": 11,
     "metadata": {},
     "output_type": "execute_result"
    }
   ],
   "source": [
    "r1"
   ]
  },
  {
   "cell_type": "code",
   "execution_count": 12,
   "id": "e0fc1e84",
   "metadata": {},
   "outputs": [
    {
     "data": {
      "text/plain": [
       "{'train_accuracy': 0.9311224489795918,\n",
       " 'test_accuracy': 0.5311418685121108,\n",
       " 'params': {'activation': 'tanh',\n",
       "  'alpha': 0.0001,\n",
       "  'hidden_layer_sizes': (100, 50)}}"
      ]
     },
     "execution_count": 12,
     "metadata": {},
     "output_type": "execute_result"
    }
   ],
   "source": [
    "r2"
   ]
  },
  {
   "cell_type": "code",
   "execution_count": null,
   "id": "847f3264",
   "metadata": {},
   "outputs": [],
   "source": [
    "\n"
   ]
  }
 ],
 "metadata": {
  "kernelspec": {
   "display_name": "Python 3 (ipykernel)",
   "language": "python",
   "name": "python3"
  },
  "language_info": {
   "codemirror_mode": {
    "name": "ipython",
    "version": 3
   },
   "file_extension": ".py",
   "mimetype": "text/x-python",
   "name": "python",
   "nbconvert_exporter": "python",
   "pygments_lexer": "ipython3",
   "version": "3.9.16"
  }
 },
 "nbformat": 4,
 "nbformat_minor": 5
}
