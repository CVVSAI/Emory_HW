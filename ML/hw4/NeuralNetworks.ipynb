{
 "cells": [
  {
   "cell_type": "code",
   "execution_count": 23,
   "id": "e989c1d4",
   "metadata": {},
   "outputs": [],
   "source": [
    "import pandas as pd\n",
    "import numpy as np\n",
    "import sklearn as sk \n",
    "from scipy.stats import pearsonr, spearmanr, kendalltau\n",
    "from sklearn.model_selection import train_test_split\n",
    "from sklearn.tree import DecisionTreeClassifier , plot_tree\n",
    "from sklearn.model_selection import GridSearchCV\n",
    "from sklearn.metrics import roc_auc_score\n",
    "import matplotlib.pyplot as plt\n",
    "from sklearn.neural_network import MLPClassifier\n",
    "from sklearn.preprocessing import LabelEncoder\n",
    "import warnings\n",
    "warnings.filterwarnings(\"ignore\")"
   ]
  },
  {
   "cell_type": "code",
   "execution_count": 24,
   "id": "0173347c",
   "metadata": {},
   "outputs": [],
   "source": [
    "df = pd.read_csv(r'C:\\Users\\Varshith\\Desktop\\homeworks\\Emory_HW\\ML\\hw3\\loan_default.csv')"
   ]
  },
  {
   "cell_type": "code",
   "execution_count": 25,
   "id": "0d3680c0",
   "metadata": {},
   "outputs": [],
   "source": [
    "# df['term'] = df['term'].apply(lambda x: 1 if x == ' 60 months' else 0)\n",
    "\n",
    "# grade_mapping = {'A': 7, 'B': 6, 'C': 5, 'D': 4, 'E': 3, 'F': 2, 'G': 1 }\n",
    "# df['grade'] = df['grade'].replace(grade_mapping)\n",
    "# df['grade'] = df['grade'].astype(int)\n",
    "\n",
    "# df['emp_length'] = df['emp_length'].str.replace('<', '')\n",
    "# df['emp_length'] = df['emp_length'].str.replace(' years', '')\n",
    "# df['emp_length'] = df['emp_length'].str.replace(' year', '')\n",
    "# df['emp_length'] = df['emp_length'].str.replace('n/a', '')\n",
    "# df['emp_length'] = df['emp_length'].str.replace(' ', '')\n",
    "# df['emp_length'] = df['emp_length'].str.replace('+', '')\n",
    "# df['emp_length'] = df['emp_length'].apply(lambda x: 10 if x == \"\" else x)\n",
    "# df['emp_length'] = df['emp_length'].fillna(0)\n",
    "# df['emp_length'] = df['emp_length'].astype(int)\n",
    "\n",
    "# df['home_ownership'] = df['home_ownership'].astype(str)\n",
    "# df['home_ownership'] = df['home_ownership'].apply(lambda x: 1 if x in ['OWN', 'MORTGAGE'] else 0)\n",
    "# df['home_ownership'] = df['home_ownership'].astype(int)\n",
    "\n",
    "# df['verification_status'] = df['verification_status'].apply(lambda x: 1 if x in ['Verified', 'Source Verified'] else 0)\n",
    "\n",
    "# df['purpose'] = df['purpose'].astype(str)\n",
    "# df['purpose'] = df['purpose'].replace({\n",
    "#     'home_improvement': 1, 'other': 1, 'moving': 1, 'vacation': 1,\n",
    "#     'major_purchase': 1, 'small_business': 1, 'car': 1, 'medical': 1,\n",
    "#     'house': 1, 'renewable_energy': 1, 'wedding': 1\n",
    "# })\n",
    "\n",
    "# df['purpose'] = df['purpose'].apply(lambda x: 1 if x == 1 else 0)\n",
    "# df['purpose'] = df['purpose'].astype(int)\n",
    "\n",
    "# df['earliest_cr_line'] = pd.to_datetime(df['earliest_cr_line'], format='%d-%m-%Y').dt.year"
   ]
  },
  {
   "cell_type": "code",
   "execution_count": 26,
   "id": "37f20c64",
   "metadata": {},
   "outputs": [],
   "source": [
    "le = LabelEncoder()\n",
    "le1 = LabelEncoder()\n",
    "le2 = LabelEncoder()\n",
    "le3 = LabelEncoder()\n",
    "le4 = LabelEncoder()\n",
    "le5 = LabelEncoder()\n",
    "le6 = LabelEncoder()\n",
    "le.fit(df['term'])\n",
    "df['term'] = le.transform(df['term'])\n",
    "le1.fit(df['grade'])\n",
    "df['grade'] = le1.transform(df['grade'])\n",
    "le2.fit(df['emp_length'])\n",
    "df['emp_length'] = le2.transform(df['emp_length'])\n",
    "le3.fit(df['home_ownership'] )\n",
    "df['home_ownership']  = le3.transform(df['home_ownership'] )\n",
    "le4.fit(df['verification_status'])\n",
    "df['verification_status'] = le4.transform(df['verification_status'])\n",
    "le5.fit(df['purpose'])\n",
    "df['purpose'] = le5.transform(df['purpose'])\n",
    "le6.fit(df['earliest_cr_line'])\n",
    "df['earliest_cr_line'] = le6.transform(df['earliest_cr_line'])\n"
   ]
  },
  {
   "cell_type": "code",
   "execution_count": 27,
   "id": "c2279f0c",
   "metadata": {},
   "outputs": [],
   "source": [
    "# df = df.drop([\"earliest_cr_line\"], axis = 1)\n",
    "train, test = train_test_split(df, test_size=0.15, random_state=42) \n",
    "X_train_whole = train.drop(['class'], axis=1).values\n",
    "Y_train_whole = train['class'].values\n",
    "train, val = train_test_split(train, test_size=0.15, random_state=42)"
   ]
  },
  {
   "cell_type": "code",
   "execution_count": 28,
   "id": "4b710d70",
   "metadata": {},
   "outputs": [],
   "source": [
    "X_train = train.drop(['class'], axis=1).values\n",
    "y_train = train['class'].values\n",
    "X_val = val.drop(['class'], axis=1).values\n",
    "y_val = val['class'].values\n",
    "X_test = test.drop(['class'], axis=1).values\n",
    "y_test = test['class'].values"
   ]
  },
  {
   "cell_type": "code",
   "execution_count": 7,
   "id": "9cad6e40",
   "metadata": {
    "scrolled": true
   },
   "outputs": [],
   "source": [
    "from sklearn.preprocessing import StandardScaler\n",
    "\n",
    "scaler = StandardScaler()\n",
    "\n",
    "scaler.fit(X_train) \n",
    "X_train = scaler.transform(X_train)\n",
    "X_val = scaler.transform(X_val) \n",
    "X_test = scaler.transform(X_test)"
   ]
  },
  {
   "cell_type": "code",
   "execution_count": 8,
   "id": "131ed543",
   "metadata": {},
   "outputs": [],
   "source": [
    "def rank_correlation(x, y):\n",
    "    corrs = []\n",
    "    for i in range(x.shape[1]):\n",
    "        corr,_ = pearsonr(x[:,i], y)\n",
    "        corrs.append(corr)\n",
    "    rank = np.argsort(np.abs(corrs))[::-1]\n",
    "    return rank"
   ]
  },
  {
   "cell_type": "code",
   "execution_count": 9,
   "id": "70627933",
   "metadata": {},
   "outputs": [
    {
     "data": {
      "text/plain": [
       "array([20,  3,  5, 11,  2,  8, 18,  9, 14,  6, 25, 24,  0,  7, 19,  1, 12,\n",
       "       17,  4, 10, 23, 22, 16, 13, 21, 15], dtype=int64)"
      ]
     },
     "execution_count": 9,
     "metadata": {},
     "output_type": "execute_result"
    }
   ],
   "source": [
    "rank_correlation(X_train_whole,Y_train_whole)"
   ]
  },
  {
   "cell_type": "code",
   "execution_count": 29,
   "id": "d326e066",
   "metadata": {},
   "outputs": [],
   "source": [
    "from sklearn.model_selection import GridSearchCV\n",
    "from sklearn.metrics import roc_auc_score\n",
    "\n",
    "def tune_nn(x, y, hidden_params, act_params, alpha_params):\n",
    "\n",
    "    model = MLPClassifier()\n",
    "\n",
    "    param_grid = {\n",
    "    'hidden_layer_sizes': hidden_params,\n",
    "    'activation': act_params, \n",
    "    'alpha': alpha_params\n",
    "    }\n",
    "\n",
    "    grid = GridSearchCV(model, param_grid, cv=5, scoring='roc_auc')\n",
    "\n",
    "    grid.fit(x, y)\n",
    "\n",
    "    best_params = {\n",
    "    'best-hidden': grid.best_params_['hidden_layer_sizes'],\n",
    "    'best-activation': grid.best_params_['activation'],\n",
    "    'best-alpha': grid.best_params_['alpha']\n",
    "    }\n",
    "\n",
    "    return best_params"
   ]
  },
  {
   "cell_type": "code",
   "execution_count": 30,
   "id": "74d000a4",
   "metadata": {
    "scrolled": true
   },
   "outputs": [
    {
     "name": "stdout",
     "output_type": "stream",
     "text": [
      "Best hidden layers: (100, 50)\n",
      "Best activation: relu\n",
      "Best alpha: 0.001\n"
     ]
    }
   ],
   "source": [
    "hidden_params = [(10,), (50,), (50,20), (100,), (100, 50), (200, 100), (300, 200, 100)]\n",
    "act_params = ['logistic', 'tanh', 'relu']\n",
    "alpha_params = [0.0001, 0.001, 0.01, 0.1]\n",
    "best_params = tune_nn(X_val, y_val, hidden_params, act_params, alpha_params)\n",
    "\n",
    "print(\"Best hidden layers:\", best_params['best-hidden']) \n",
    "print(\"Best activation:\", best_params['best-activation'])\n",
    "print(\"Best alpha:\", best_params['best-alpha'])"
   ]
  },
  {
   "cell_type": "code",
   "execution_count": 31,
   "id": "1c2fc797",
   "metadata": {},
   "outputs": [
    {
     "data": {
      "text/plain": [
       "{'best-hidden': (100, 50), 'best-activation': 'relu', 'best-alpha': 0.001}"
      ]
     },
     "execution_count": 31,
     "metadata": {},
     "output_type": "execute_result"
    }
   ],
   "source": [
    "best_params"
   ]
  },
  {
   "cell_type": "code",
   "execution_count": 33,
   "id": "a5ebe319",
   "metadata": {
    "scrolled": true
   },
   "outputs": [
    {
     "name": "stdout",
     "output_type": "stream",
     "text": [
      "AUC: 0.6907603890362511\n",
      "F1: 0.5521472392638037\n",
      "F2: 0.4403131115459883\n",
      "1.1850543022155762\n"
     ]
    }
   ],
   "source": [
    "from sklearn.metrics import roc_auc_score, f1_score, fbeta_score\n",
    "import time\n",
    "nn = MLPClassifier(hidden_layer_sizes=best_params['best-hidden'], activation=best_params['best-activation'],\n",
    "                   alpha=best_params['best-alpha'])\n",
    "\n",
    "start_time = time.time()\n",
    "\n",
    "nn.fit(X_train_whole, Y_train_whole)\n",
    "\n",
    "duration = time.time() - start_time\n",
    "\n",
    "# y_pred = nn.predict_proba(X_test)[:,1]\n",
    "y_pred = nn.predict(X_test)\n",
    "auc = roc_auc_score(y_test, y_pred)\n",
    "f1 = f1_score(y_test, y_pred) \n",
    "f2 = fbeta_score(y_test, y_pred, beta=2)\n",
    "\n",
    "print(\"AUC:\", auc)\n",
    "print(\"F1:\", f1)\n",
    "print(\"F2:\", f2)\n",
    "print(duration)"
   ]
  },
  {
   "cell_type": "code",
   "execution_count": 34,
   "id": "ec8f85ef",
   "metadata": {},
   "outputs": [],
   "source": [
    "from sklearn.tree import DecisionTreeClassifier\n",
    "from sklearn.model_selection import GridSearchCV\n",
    "from sklearn.metrics import roc_auc_score\n",
    "\n",
    "def tune_dt(x, y, dparams, lsparams):\n",
    "\n",
    "        dt = DecisionTreeClassifier()\n",
    "        param_grid = {\n",
    "            'max_depth': dparams,\n",
    "            'min_samples_leaf': lsparams\n",
    "        }\n",
    "\n",
    "        grid_search = GridSearchCV(dt, param_grid, scoring='roc_auc', cv=5)\n",
    "        grid_search.fit(x, y)\n",
    "        auc_scores = grid_search.cv_results_['mean_test_score'].reshape(len(depths), len(min_leaf_samples))\n",
    "        mean_test_auc = grid_search.cv_results_['mean_test_score']  # Mean AUC scores for each parameter combination\n",
    "        params = grid_search.cv_results_['params']  # Parameters corresponding to each AUC score\n",
    "        best_depth = grid_search.best_params_['max_depth']\n",
    "        best_leaf_samples = grid_search.best_params_['min_samples_leaf']\n",
    "        best_auc = grid_search.best_score_\n",
    "        result_dict = {\n",
    "            \"best-depth\": best_depth,\n",
    "            \"best-leaf-samples\": best_leaf_samples,\n",
    "            \"best-auc\": best_auc,\n",
    "            \"auc-scores\": auc_scores\n",
    "        }\n",
    "\n",
    "        return result_dict"
   ]
  },
  {
   "cell_type": "code",
   "execution_count": 35,
   "id": "c55d204b",
   "metadata": {},
   "outputs": [],
   "source": [
    "depths = [2, 3, 5, 8, 10]\n",
    "min_leaf_samples = [3, 5, 10, 15, 20] \n",
    "result = tune_dt(X_val, y_val, depths, min_leaf_samples)\n",
    "auc_values = result['auc-scores']"
   ]
  },
  {
   "cell_type": "code",
   "execution_count": 36,
   "id": "ff7c4b14",
   "metadata": {},
   "outputs": [
    {
     "name": "stdout",
     "output_type": "stream",
     "text": [
      "AUC:  0.754420866489832 F1:  0.6666666666666667 F2:  0.5805243445692884\n",
      "0.046002864837646484\n"
     ]
    }
   ],
   "source": [
    "dt = DecisionTreeClassifier(max_depth=result['best-depth'], min_samples_leaf=result['best-leaf-samples'])\n",
    "\n",
    "start_time = time.time()\n",
    "\n",
    "dt.fit(X_train_whole, Y_train_whole) \n",
    "\n",
    "duration = time.time() - start_time\n",
    "\n",
    "y_pred = dt.predict(X_test)\n",
    "auc = roc_auc_score(y_test, y_pred)\n",
    "f1 = f1_score(y_test, y_pred)\n",
    "f2 = fbeta_score(y_test, y_pred, beta=2)\n",
    "print(\"AUC: \", auc, \"F1: \", f1, \"F2: \", f2)\n",
    "print(duration)"
   ]
  },
  {
   "cell_type": "code",
   "execution_count": null,
   "id": "651e7cd6",
   "metadata": {},
   "outputs": [],
   "source": []
  },
  {
   "cell_type": "code",
   "execution_count": null,
   "id": "8b0abeec",
   "metadata": {},
   "outputs": [],
   "source": []
  }
 ],
 "metadata": {
  "kernelspec": {
   "display_name": "Python 3 (ipykernel)",
   "language": "python",
   "name": "python3"
  },
  "language_info": {
   "codemirror_mode": {
    "name": "ipython",
    "version": 3
   },
   "file_extension": ".py",
   "mimetype": "text/x-python",
   "name": "python",
   "nbconvert_exporter": "python",
   "pygments_lexer": "ipython3",
   "version": "3.11.4"
  }
 },
 "nbformat": 4,
 "nbformat_minor": 5
}
